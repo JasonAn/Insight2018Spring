{
 "cells": [
  {
   "cell_type": "code",
   "execution_count": 64,
   "metadata": {
    "collapsed": false
   },
   "outputs": [
    {
     "name": "stdout",
     "output_type": "stream",
     "text": [
      "C00177436 DEEHAN, WILLIAM N 30004 2017 384\n",
      "C00384818 ABBOTT, JOSEPH 02895 2017 250\n",
      "C00384516 SABOURIN, JAMES 02895 2017 230\n",
      "C00177436 JEROME, CHRISTOPHER 30750 2017 384\n",
      "C00384516 ABBOTT, JOSEPH 02895 2018 333\n",
      "0\n",
      "C00384516 SABOURIN, JAMES 02895 2018 384\n",
      "0\n",
      "['C00384516|02895|2018|333|1', 'C00384516|02895|2018|717|2']\n"
     ]
    }
   ],
   "source": [
    "import numpy as np\n",
    "import math\n",
    "\n",
    "my_hash = dict()\n",
    "contri_list = list()\n",
    "ans = []\n",
    "num = 0\n",
    "cnt = 0\n",
    "per = 0.3\n",
    "\n",
    "with open('itcont.txt') as f:\n",
    "    lines=f.readlines()\n",
    "    for line in lines:\n",
    "        myarray = line.split('|')\n",
    "        if myarray[15] == str(): ## if OTHER_ID is not empty\n",
    "            CMTE_ID, NAME, ZIP_CODE, TRANSACTION_DT, TRANSACTION_AMT = myarray[0], myarray[7], myarray[10][0:5], myarray[13][-4:], int(myarray[14])\n",
    "            print CMTE_ID, NAME, ZIP_CODE, TRANSACTION_DT, TRANSACTION_AMT\n",
    "            \n",
    "            if (NAME, ZIP_CODE) not in my_hash:\n",
    "                my_hash[(NAME, ZIP_CODE)] = TRANSACTION_AMT\n",
    "            else:\n",
    "                num += 1\n",
    "                cnt += int(TRANSACTION_AMT)\n",
    "                contri_list.append(TRANSACTION_DT)\n",
    "                order = int(math.ceil(per * len(contri_list))-1)\n",
    "                ans.append(\"|\".join([CMTE_ID, ZIP_CODE[0:5], sorted(contri_list)[order], str(TRANSACTION_DT), str(cnt), str(num)]))\n",
    "                \n",
    "    print ans\n",
    "                \n",
    "            \n"
   ]
  }
 ],
 "metadata": {
  "anaconda-cloud": {},
  "kernelspec": {
   "display_name": "Python 2",
   "language": "python",
   "name": "python2"
  },
  "language_info": {
   "codemirror_mode": {
    "name": "ipython",
    "version": 2
   },
   "file_extension": ".py",
   "mimetype": "text/x-python",
   "name": "python",
   "nbconvert_exporter": "python",
   "pygments_lexer": "ipython2",
   "version": "2.7.12"
  }
 },
 "nbformat": 4,
 "nbformat_minor": 1
}
